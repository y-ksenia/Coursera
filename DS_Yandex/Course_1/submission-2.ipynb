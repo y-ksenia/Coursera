{
 "cells": [
  {
   "cell_type": "code",
   "execution_count": 39,
   "metadata": {
    "collapsed": true
   },
   "outputs": [],
   "source": [
    "import numpy as np\n",
    "from math import *\n",
    "import matplotlib.pyplot as plt\n",
    "from scipy.linalg import solve\n",
    "%matplotlib inline"
   ]
  },
  {
   "cell_type": "code",
   "execution_count": 40,
   "metadata": {
    "collapsed": true
   },
   "outputs": [],
   "source": [
    "def func(x):\n",
    "    return(sin(x/5) * exp(x/10)+ 5 * exp(-x/2))"
   ]
  },
  {
   "cell_type": "code",
   "execution_count": 41,
   "metadata": {},
   "outputs": [
    {
     "data": {
      "text/plain": [
       "3.252216865271419"
      ]
     },
     "execution_count": 41,
     "metadata": {},
     "output_type": "execute_result"
    }
   ],
   "source": [
    "func(1)"
   ]
  },
  {
   "cell_type": "code",
   "execution_count": 55,
   "metadata": {},
   "outputs": [],
   "source": [
    "A = np.array([[1,1],[15,1]])\n",
    "b = [func(1),func(15)]\n",
    "coefs_line = solve(A,b)\n",
    "def line(x):\n",
    "    return x * coefs_line[0] + coefs_line[1]"
   ]
  },
  {
   "cell_type": "code",
   "execution_count": 56,
   "metadata": {
    "collapsed": true
   },
   "outputs": [],
   "source": [
    "x1=1\n",
    "x2=8\n",
    "x3=15\n",
    "A = np.array([[x1**2,x1,1],[x2**2,x2,1],[x3**2,x3,1]])\n",
    "b = [func(x1),func(x2),func(x3)]\n",
    "coefs_parabola = solve(A,b)\n",
    "def parabola(x):\n",
    "    return (x**2 * coefs_parabola[0] + \n",
    "            x * coefs_parabola[1] + \n",
    "            coefs_parabola[2])"
   ]
  },
  {
   "cell_type": "code",
   "execution_count": 62,
   "metadata": {},
   "outputs": [],
   "source": [
    "x1=1\n",
    "x2=4\n",
    "x3=10\n",
    "x4=15\n",
    "A = np.array([[x1**3,x1**2,x1,1],[x2**3,x2**2,x2,1],\n",
    "              [x3**3,x3**2,x3,1],[x4**3,x4**2,x4,1]])\n",
    "b = [func(x1),func(x2),func(x3),func(x4)]\n",
    "coefs_giperb = solve(A,b)\n",
    "def parabola(x):\n",
    "    return (x**3 * coefs_giperb[0] + \n",
    "            x**2 * coefs_giperb[1] + \n",
    "            x * coefs_giperb[2] + \n",
    "            coefs_giperb[3])"
   ]
  },
  {
   "cell_type": "code",
   "execution_count": 63,
   "metadata": {},
   "outputs": [
    {
     "data": {
      "text/plain": [
       "[<matplotlib.lines.Line2D at 0x1e7c636a908>]"
      ]
     },
     "execution_count": 63,
     "metadata": {},
     "output_type": "execute_result"
    },
    {
     "data": {
      "image/png": "[encoded data removed]",
      "text/plain": [
       "<matplotlib.figure.Figure at 0x1e7c6320b00>"
      ]
     },
     "metadata": {},
     "output_type": "display_data"
    }
   ],
   "source": [
    "x = list(range(1,16))\n",
    "f1 = [func(i) for i in x]\n",
    "f2 = [line(i) for i in x]\n",
    "f3 = [parabola(i) for i in x]\n",
    "plt.plot(x, f1)\n",
    "plt.plot(x, f2)\n",
    "plt.plot(x, f3)\n",
    "# plt.plot()"
   ]
  },
  {
   "cell_type": "code",
   "execution_count": 73,
   "metadata": {},
   "outputs": [
    {
     "data": {
      "text/plain": [
       "array([ 4.36264154, -1.29552587,  0.19333685, -0.00823565])"
      ]
     },
     "execution_count": 73,
     "metadata": {},
     "output_type": "execute_result"
    }
   ],
   "source": [
    "coefs_giperb[::-1]"
   ]
  },
  {
   "cell_type": "code",
   "execution_count": null,
   "metadata": {
    "collapsed": true
   },
   "outputs": [],
   "source": []
  }
 ],
 "metadata": {
  "kernelspec": {
   "display_name": "Python 3",
   "language": "python",
   "name": "python3"
  },
  "language_info": {
   "codemirror_mode": {
    "name": "ipython",
    "version": 3
   },
   "file_extension": ".py",
   "mimetype": "text/x-python",
   "name": "python",
   "nbconvert_exporter": "python",
   "pygments_lexer": "ipython3",
   "version": "3.6.3"
  }
 },
 "nbformat": 4,
 "nbformat_minor": 2
}
